{
 "cells": [
  {
   "cell_type": "markdown",
   "metadata": {},
   "source": [
    "# Test CNN model with audio"
   ]
  },
  {
   "cell_type": "code",
   "execution_count": 16,
   "metadata": {},
   "outputs": [],
   "source": [
    "# import libraries\n",
    "import IPython.display as ipd\n",
    "import librosa\n",
    "import librosa.display\n",
    "import matplotlib.pyplot as plt\n",
    "import matplotlib\n",
    "import pandas as pd\n",
    "import numpy as np\n",
    "import os\n",
    "import sys\n",
    "import struct\n",
    "import pyaudio\n",
    "import time\n",
    "from keras.models import load_model"
   ]
  },
  {
   "cell_type": "markdown",
   "metadata": {},
   "source": [
    "# Inputs "
   ]
  },
  {
   "cell_type": "code",
   "execution_count": 52,
   "metadata": {},
   "outputs": [],
   "source": [
    "# TRAINED MODEL\n",
    "# model folder\n",
    "MODEL_FP = 'models/'\n",
    "\n",
    "# SAMPLE DATA\n",
    "# audio file path\n",
    "SAMPLE_AUDIO_FP = 'audio_sample/'\n",
    "\n",
    "# sample audio spreadsheet name\n",
    "SAMPLE_AUDIO_FN = 'list_of_sample_audio.xlsx'\n",
    "\n",
    "# settings\n",
    "tot_channels = 1\n",
    "tot_rows = 40\n",
    "max_pad_len = 174\n",
    "\n",
    "\n",
    "# STREAM SETTINGS\n",
    "# how many samples per frame\n",
    "CHUNK = 1024 * 2\n",
    "#FORMAT = pyaudio.paInt16\n",
    "FORMAT = pyaudio.paFloat32\n",
    "CHANNELS = 1\n",
    "RATE = 44100 # samples per second, hertz"
   ]
  },
  {
   "cell_type": "code",
   "execution_count": 3,
   "metadata": {},
   "outputs": [],
   "source": [
    "# define classes\n",
    "# 0 = air_conditioner\n",
    "# 1 = car_horn\n",
    "# 2 = children_playing\n",
    "# 3 = dog_bark\n",
    "# 4 = drilling\n",
    "# 5 = engine_idling\n",
    "# 6 = gun_shot\n",
    "# 7 = jackhammer\n",
    "# 8 = siren\n",
    "# 9 = street_music\n",
    "    \n",
    "class_label = ['air_conditioner', 'car_horn', 'children_playing', 'dog_bark',\n",
    "          'drilling', 'engine_idling', 'gun_shot', 'jackhammer',\n",
    "          'siren', 'street_music']"
   ]
  },
  {
   "cell_type": "markdown",
   "metadata": {},
   "source": [
    "## Functions"
   ]
  },
  {
   "cell_type": "code",
   "execution_count": 51,
   "metadata": {},
   "outputs": [],
   "source": [
    "  \n",
    "# function used to extract feature from sample audio\n",
    "\n",
    "def extract_features2(in_data):\n",
    "    try:\n",
    "        numpy_array = np.frombuffer(in_data, dtype=np.float32)\n",
    "        mfccs =librosa.feature.mfcc(numpy_array, n_mfcc=tot_rows)\n",
    "        pad_width = max_pad_len - mfccs.shape[1]\n",
    "        mfccs = np.pad(mfccs, pad_width=((0, 0), (0, pad_width)), mode='constant')\n",
    "        \n",
    "    except Exception as e:\n",
    "        print(\"Error encountered while parsing file: \", in_data)\n",
    "        return None \n",
    "     \n",
    "    return mfccs"
   ]
  },
  {
   "cell_type": "markdown",
   "metadata": {},
   "source": [
    "# Load model"
   ]
  },
  {
   "cell_type": "code",
   "execution_count": 5,
   "metadata": {},
   "outputs": [
    {
     "name": "stdout",
     "output_type": "stream",
     "text": [
      "WARNING:tensorflow:From C:\\Users\\yeevien.ng\\AppData\\Roaming\\Python\\Python37\\site-packages\\tensorflow_core\\python\\ops\\resource_variable_ops.py:1630: calling BaseResourceVariable.__init__ (from tensorflow.python.ops.resource_variable_ops) with constraint is deprecated and will be removed in a future version.\n",
      "Instructions for updating:\n",
      "If using Keras pass *_constraint arguments to layers.\n",
      "WARNING:tensorflow:From C:\\Users\\yeevien.ng\\AppData\\Roaming\\Python\\Python37\\site-packages\\keras\\backend\\tensorflow_backend.py:422: The name tf.global_variables is deprecated. Please use tf.compat.v1.global_variables instead.\n",
      "\n"
     ]
    }
   ],
   "source": [
    "# load model\n",
    "model=load_model(MODEL_FP + 'cnn_basic_model.hdf5')"
   ]
  },
  {
   "cell_type": "markdown",
   "metadata": {},
   "source": [
    "# Predict from stream "
   ]
  },
  {
   "cell_type": "code",
   "execution_count": 6,
   "metadata": {},
   "outputs": [],
   "source": [
    "%matplotlib qt"
   ]
  },
  {
   "cell_type": "code",
   "execution_count": 53,
   "metadata": {},
   "outputs": [],
   "source": [
    "# pyaudio object\n",
    "p = pyaudio.PyAudio()\n",
    "\n",
    "stream = p.open(\n",
    "        format=FORMAT,\n",
    "        channels=CHANNELS,\n",
    "        rate=RATE,\n",
    "        input=True,\n",
    "        output=True,\n",
    "        frames_per_buffer=CHUNK\n",
    "        #stream_callback = callback\n",
    ")\n"
   ]
  },
  {
   "cell_type": "code",
   "execution_count": null,
   "metadata": {},
   "outputs": [],
   "source": [
    "fig, ax = plt.subplots()\n",
    "\n",
    "i= 0\n",
    "while True:\n",
    "    data = stream.read(CHUNK)\n",
    "    \n",
    "    i= i + 1\n",
    "    print(i)\n",
    "    \n",
    "    # feature\n",
    "    feature = extract_features2(data)\n",
    "    feature = feature.reshape(1, tot_rows, max_pad_len, tot_channels)\n",
    "    \n",
    "    # all class prediction probability\n",
    "    pred_prob_vector = model.predict_proba(feature)\n",
    "    pred_prob_class = pred_prob_vector[0]\n",
    "    \n",
    "    # clear \n",
    "    ax.clear()\n",
    "    \n",
    "    # set x limit\n",
    "    ax.set_xlim(0,1)\n",
    "    \n",
    "    # plot\n",
    "    bar = ax.barh(class_label,pred_prob_class)\n",
    "    fig.canvas.draw()\n",
    "    #plt.pause(0.001)\n",
    "    fig.canvas.flush_events()\n",
    "    \n",
    "    feature = None\n",
    "    pred_prob_class = None\n",
    "\n",
    "#stream.close()\n",
    "#p.terminate()"
   ]
  },
  {
   "cell_type": "code",
   "execution_count": 61,
   "metadata": {},
   "outputs": [
    {
     "name": "stdout",
     "output_type": "stream",
     "text": [
      "\f\n",
      "\n"
     ]
    }
   ],
   "source": [
    "clear(pred_prob_class)"
   ]
  }
 ],
 "metadata": {
  "kernelspec": {
   "display_name": "Python 3",
   "language": "python",
   "name": "python3"
  },
  "language_info": {
   "codemirror_mode": {
    "name": "ipython",
    "version": 3
   },
   "file_extension": ".py",
   "mimetype": "text/x-python",
   "name": "python",
   "nbconvert_exporter": "python",
   "pygments_lexer": "ipython3",
   "version": "3.7.1"
  }
 },
 "nbformat": 4,
 "nbformat_minor": 2
}
